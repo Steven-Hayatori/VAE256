{
 "cells": [
  {
   "cell_type": "code",
   "execution_count": null,
   "id": "ba95a29b",
   "metadata": {
    "ExecuteTime": {
     "end_time": "2024-03-05T14:22:32.148778Z",
     "start_time": "2024-03-05T14:22:30.158486Z"
    },
    "execution": {
     "iopub.execute_input": "2023-10-27T12:21:10.115154Z",
     "iopub.status.busy": "2023-10-27T12:21:10.114657Z",
     "iopub.status.idle": "2023-10-27T12:21:14.184224Z",
     "shell.execute_reply": "2023-10-27T12:21:14.183344Z"
    },
    "papermill": {
     "duration": 4.0798,
     "end_time": "2023-10-27T12:21:14.186843",
     "exception": false,
     "start_time": "2023-10-27T12:21:10.107043",
     "status": "completed"
    },
    "tags": []
   },
   "outputs": [],
   "source": [
    "# 模型基本参数\n",
    "import numpy as np\n",
    "from PIL import Image\n",
    "import matplotlib.pyplot as plt\n",
    "import torch;torch.manual_seed(0)\n",
    "from torchvision.transforms import transforms\n",
    "from torch.utils.data import DataLoader, Dataset\n",
    "import torch.nn as nn\n",
    "import torch.nn.functional as F\n",
    "\n",
    "\n",
    "BATCH_SIZE = 32\n",
    "EPOCHS = 1500\n",
    "LATENTDIM = 192\n",
    "LR_MAX = 1e-4\n",
    "LR_MIN = 8e-5\n",
    "\n",
    "path_Confocal = f'./datasets/Confocal/'\n",
    "path_STED = f'./datasets/STED'\n",
    "path_STED_HC = f'./datasets/STED_HC/'\n",
    "\n",
    "savepath_model = f'./models/vae_model_{EPOCHS}epo_{BATCH_SIZE}bth_{LATENTDIM}latn.pth'\n",
    "savepath_fig = f'./models/vae_lossfig_{EPOCHS}epo_{BATCH_SIZE}bth_{LATENTDIM}latn.png'\n",
    "savepath_data = f'./models/vae_lossdata_{EPOCHS}epo_{BATCH_SIZE}bth_{LATENTDIM}latn.npy'"
   ]
  },
  {
   "cell_type": "code",
   "execution_count": null,
   "id": "c7261401",
   "metadata": {
    "ExecuteTime": {
     "end_time": "2024-03-05T14:22:32.277726Z",
     "start_time": "2024-03-05T14:22:32.150631Z"
    },
    "execution": {
     "iopub.execute_input": "2023-10-27T12:21:14.198288Z",
     "iopub.status.busy": "2023-10-27T12:21:14.197824Z",
     "iopub.status.idle": "2023-10-27T12:21:44.572824Z",
     "shell.execute_reply": "2023-10-27T12:21:44.571841Z"
    },
    "papermill": {
     "duration": 30.383516,
     "end_time": "2023-10-27T12:21:44.575605",
     "exception": false,
     "start_time": "2023-10-27T12:21:14.192089",
     "status": "completed"
    },
    "tags": []
   },
   "outputs": [],
   "source": [
    "# 数据集\n",
    "# 32*160\n",
    "num_to_learn = 2560\n",
    "\n",
    "class ImageDataset(Dataset):\n",
    "    def __init__(self, path_LR, path_HR):\n",
    "        self.path_LR= path_LR\n",
    "        self.data_HR = path_HR\n",
    "        self.transform = transforms.Compose([transforms.ToTensor()])\n",
    "        self.data = []\n",
    "        for i in range(0,num_to_learn):\n",
    "            img_LR_to_dataset = Image.open(f\"{path_LR}/{i}_Confocal.png\")\n",
    "            img_LR_to_dataset = self.transform(img_LR_to_dataset).unsqueeze(0)\n",
    "            img_HR_to_dataset = Image.open(f\"{path_HR}/{i}_STED.png\")\n",
    "            img_HR_to_dataset = self.transform(img_HR_to_dataset).unsqueeze(0)\n",
    "            self.data.append((img_LR_to_dataset, img_HR_to_dataset))\n",
    "    def __len__(self):\n",
    "        return len(self.data)\n",
    "    def __getitem__(self, index):\n",
    "        return self.data[index]\n",
    "\n",
    "dataset = ImageDataset(path_Confocal,path_STED)\n",
    "dataloader = DataLoader(dataset,batch_size=BATCH_SIZE,shuffle=True)"
   ]
  },
  {
   "cell_type": "code",
   "execution_count": null,
   "id": "f6a3e0ec",
   "metadata": {
    "ExecuteTime": {
     "end_time": "2024-03-05T14:22:33.005761Z",
     "start_time": "2024-03-05T14:22:32.280687Z"
    },
    "execution": {
     "iopub.execute_input": "2023-10-27T12:21:44.586068Z",
     "iopub.status.busy": "2023-10-27T12:21:44.585745Z",
     "iopub.status.idle": "2023-10-27T12:21:45.948075Z",
     "shell.execute_reply": "2023-10-27T12:21:45.947033Z"
    },
    "papermill": {
     "duration": 1.370753,
     "end_time": "2023-10-27T12:21:45.951227",
     "exception": false,
     "start_time": "2023-10-27T12:21:44.580474",
     "status": "completed"
    },
    "tags": []
   },
   "outputs": [],
   "source": [
    "# 检查dataset:\n",
    "num = len(dataset)\n",
    "img_LR_0, img_HR_0 = dataset[0]\n",
    "img_shape = img_LR_0.shape\n",
    "print(\"检查dataset参数：\")\n",
    "print(\"图像数量:%s\"%num)\n",
    "print(\"图像规格:[%d, %d, %d, %d] [批次图像数，通道数，高度，宽度]\"%(img_shape[0], img_shape[1], img_shape[2], img_shape[3]))\n",
    "\n",
    "for i in range(3):\n",
    "    img_LR_i, img_HR_i = dataset[i]\n",
    "    img_LR_i, img_HR_i = img_LR_i.squeeze(), img_HR_i.squeeze()\n",
    "    fig, ax = plt.subplots(1,2)\n",
    "    ax[0].imshow(img_LR_i,cmap='hot')\n",
    "    ax[0].set_title('Low_Resolution[%s]'%(i+1))\n",
    "    ax[0].axis('off')\n",
    "    ax[1].imshow(img_HR_i,cmap='hot')\n",
    "    ax[1].set_title('High_Resolution[%s]'%(i+1))\n",
    "    ax[1].axis('off')\n",
    "plt.show()"
   ]
  },
  {
   "cell_type": "code",
   "execution_count": null,
   "id": "5315cf4b",
   "metadata": {
    "ExecuteTime": {
     "end_time": "2024-03-05T14:22:34.426986Z",
     "start_time": "2024-03-05T14:22:33.007216Z"
    },
    "execution": {
     "iopub.execute_input": "2023-10-27T12:21:45.982082Z",
     "iopub.status.busy": "2023-10-27T12:21:45.981700Z",
     "iopub.status.idle": "2023-10-27T12:21:53.924922Z",
     "shell.execute_reply": "2023-10-27T12:21:53.923964Z"
    },
    "papermill": {
     "duration": 7.960747,
     "end_time": "2023-10-27T12:21:53.926862",
     "exception": false,
     "start_time": "2023-10-27T12:21:45.966115",
     "status": "completed"
    },
    "scrolled": true,
    "tags": []
   },
   "outputs": [],
   "source": [
    "# 检查dataloader:\n",
    "num_batches = len(dataloader)\n",
    "batch_size = dataloader.batch_size\n",
    "first_batch = next(iter(dataloader))\n",
    "num_images_in_first_batch = len(first_batch[0])  # 或 len(first_batch[1])，两者应该相等\n",
    "print(\"检查dataloader参数：\")\n",
    "print(\"批次数量:\", num_batches)\n",
    "print(\"批次大小:\", batch_size)\n",
    "print(\"第一个批次的图像数量:\", num_images_in_first_batch)\n",
    "#从dataloader角度检查第一batch图片：\n",
    "img_LR_batch = first_batch[0]\n",
    "img_HR_batch = first_batch[1]\n",
    "\n",
    "for i in range(batch_size):\n",
    "    img_LR_i, img_HR_i = img_LR_batch[i], img_HR_batch[i]\n",
    "    img_LR_i, img_HR_i = img_LR_i.squeeze(), img_HR_i.squeeze()\n",
    "    fig,ax = plt.subplots(1,2)\n",
    "    ax[0].imshow(img_LR_i,cmap='hot')\n",
    "    ax[0].set_title(i+1)\n",
    "    ax[0].axis('off')\n",
    "    ax[1].imshow(img_HR_i,cmap='hot')\n",
    "    ax[1].set_title(i+1)\n",
    "    ax[1].axis('off')\n",
    "plt.show()"
   ]
  },
  {
   "cell_type": "code",
   "execution_count": null,
   "id": "a50de6b3",
   "metadata": {
    "ExecuteTime": {
     "end_time": "2024-01-27T10:33:08.280081Z",
     "start_time": "2024-01-27T10:33:08.273049Z"
    },
    "execution": {
     "iopub.execute_input": "2023-10-27T12:21:54.028874Z",
     "iopub.status.busy": "2023-10-27T12:21:54.027959Z",
     "iopub.status.idle": "2023-10-27T12:21:54.043319Z",
     "shell.execute_reply": "2023-10-27T12:21:54.042418Z"
    },
    "papermill": {
     "duration": 0.069971,
     "end_time": "2023-10-27T12:21:54.045454",
     "exception": false,
     "start_time": "2023-10-27T12:21:53.975483",
     "status": "completed"
    },
    "tags": []
   },
   "outputs": [],
   "source": [
    "class Encoder(nn.Module):\n",
    "    def __init__(self, latent_dim):\n",
    "        super(Encoder, self).__init__()\n",
    "        self.conv1 = nn.Conv2d(1, 4, kernel_size=3, stride=2, padding=1)\n",
    "        self.conv2 = nn.Conv2d(4, 16, kernel_size=3, stride=2, padding=1)\n",
    "        self.conv3 = nn.Conv2d(16, 64, kernel_size=3, stride=2, padding=1)\n",
    "        self.fc_mu = nn.Linear(64 * 32 * 32, latent_dim) \n",
    "        self.fc_logvar = nn.Linear(64 * 32 * 32, latent_dim) \n",
    "\n",
    "    def forward(self, x):\n",
    "        x = F.relu(self.conv1(x))\n",
    "        x = F.relu(self.conv2(x))\n",
    "        x = F.relu(self.conv3(x))\n",
    "        x = x.view(x.size(0), -1)\n",
    "        mu = self.fc_mu(x)\n",
    "        logvar = self.fc_logvar(x)\n",
    "        return mu, logvar\n",
    "\n",
    "class Decoder(nn.Module):\n",
    "    def __init__(self, latent_dim):\n",
    "        super(Decoder, self).__init__()\n",
    "        self.fc = nn.Linear(latent_dim, 64 * 32 * 32)\n",
    "        self.conv3 = nn.ConvTranspose2d(64, 16, kernel_size=4, stride=2, padding=1, output_padding=0)\n",
    "        self.conv2 = nn.ConvTranspose2d(16, 4, kernel_size=4, stride=2, padding=1, output_padding=0)\n",
    "        self.conv1 = nn.ConvTranspose2d(4, 1, kernel_size=4, stride=2, padding=1, output_padding=0)\n",
    "\n",
    "    def forward(self, x):\n",
    "        x = self.fc(x)\n",
    "        x = x.view(x.size(0), 64, 32, 32)\n",
    "        x = F.relu(self.conv3(x))\n",
    "        x = F.relu(self.conv2(x))\n",
    "        x = torch.sigmoid(self.conv1(x))\n",
    "        return x\n",
    "\n",
    "class VAE(nn.Module):\n",
    "    def __init__(self, latent_dim):\n",
    "        super(VAE, self).__init__()\n",
    "        self.encoder = Encoder(latent_dim)\n",
    "        self.decoder = Decoder(latent_dim)\n",
    "        \n",
    "    def reparameterize(self, mu, logvar):\n",
    "        std = torch.exp(0.5 * logvar)\n",
    "        eps = torch.randn_like(std)\n",
    "        z = mu + eps * std\n",
    "        return z\n",
    "    \n",
    "    def forward(self, x):\n",
    "        mu, logvar = self.encoder(x)\n",
    "        z = self.reparameterize(mu, logvar)\n",
    "        x_recon = self.decoder(z)\n",
    "        return x_recon, mu, logvar"
   ]
  },
  {
   "cell_type": "code",
   "execution_count": null,
   "id": "f4729999",
   "metadata": {
    "ExecuteTime": {
     "end_time": "2024-03-05T14:22:35.443508Z",
     "start_time": "2024-03-05T14:22:35.433880Z"
    },
    "execution": {
     "iopub.execute_input": "2023-10-27T12:21:54.143484Z",
     "iopub.status.busy": "2023-10-27T12:21:54.143121Z",
     "iopub.status.idle": "2023-10-27T12:21:54.153543Z",
     "shell.execute_reply": "2023-10-27T12:21:54.152573Z"
    },
    "papermill": {
     "duration": 0.062985,
     "end_time": "2023-10-27T12:21:54.155567",
     "exception": false,
     "start_time": "2023-10-27T12:21:54.092582",
     "status": "completed"
    },
    "tags": []
   },
   "outputs": [],
   "source": [
    "# 循环训练\n",
    "LOSS_PLOT = []\n",
    "EPOCH_PLOT = []\n",
    "LR_PLOT = []\n",
    "def train(vae, dataloader, criterion, optimizer, num_epochs, device):\n",
    "    vae.to(device)\n",
    "    for epoch in range(num_epochs):\n",
    "        vae.train()\n",
    "        total_loss = 0.0\n",
    "        # 余弦退火法动态学习率\n",
    "        current_lr = LR_MIN + 0.5 * (LR_MAX - LR_MIN) * (1 + np.cos(np.pi * epoch / EPOCHS))\n",
    "        for param_group in optimizer.param_groups:\n",
    "            param_group['lr'] = current_lr\n",
    "        for i, (img_LR, img_HR) in enumerate(dataloader):\n",
    "            img_LR = torch.squeeze(img_LR,dim = 1)\n",
    "            img_HR = torch.squeeze(img_HR,dim = 1)\n",
    "            img_LR = img_LR.to(device)\n",
    "            img_HR = img_HR.to(device)\n",
    "            # 前向传播\n",
    "            img_SR, mu, logvar = vae(img_LR)\n",
    "            # 计算重建误差\n",
    "            loss_mse = criterion(img_SR, img_HR)\n",
    "            #loss_ssim = 1 - pytorch_ssim.ssim(img_SR, img_HR).item()\n",
    "            loss = loss_mse\n",
    "            \n",
    "            optimizer.zero_grad()\n",
    "            loss.backward()\n",
    "            optimizer.step()\n",
    "            total_loss += loss.item()\n",
    "        avg_loss = total_loss / len(dataloader)\n",
    "        print(f\"Epoch [{epoch+1}/{num_epochs}], Average Loss: {avg_loss:.6f},Current LR: {current_lr:.8f}\")\n",
    "        LOSS_PLOT.append(total_loss)\n",
    "        EPOCH_PLOT.append(epoch)\n",
    "        LR_PLOT.append(current_lr)"
   ]
  },
  {
   "cell_type": "code",
   "execution_count": null,
   "id": "9909c723",
   "metadata": {
    "ExecuteTime": {
     "end_time": "2024-03-05T14:22:37.457570Z",
     "start_time": "2024-03-05T14:22:35.445094Z"
    },
    "execution": {
     "iopub.execute_input": "2023-10-27T12:21:58.365750Z",
     "iopub.status.busy": "2023-10-27T12:21:58.364866Z",
     "iopub.status.idle": "2023-10-27T13:48:54.093473Z",
     "shell.execute_reply": "2023-10-27T13:48:54.092292Z"
    },
    "papermill": {
     "duration": 5215.777463,
     "end_time": "2023-10-27T13:48:54.095645",
     "exception": false,
     "start_time": "2023-10-27T12:21:58.318182",
     "status": "completed"
    },
    "scrolled": true,
    "tags": []
   },
   "outputs": [],
   "source": [
    "device = torch.device(\"cuda\" if torch.cuda.is_available() else \"cpu\")\n",
    "vae = VAE(LATENTDIM).to(device)\n",
    "vae = nn.DataParallel(vae)\n",
    "criterion = nn.MSELoss()\n",
    "optimizer = torch.optim.AdamW(vae.parameters())"
   ]
  },
  {
   "cell_type": "code",
   "execution_count": null,
   "id": "420ee314",
   "metadata": {},
   "outputs": [],
   "source": [
    "print(device)\n",
    "print('start!')\n",
    "train(vae, dataloader, criterion, optimizer, EPOCHS, device)\n",
    "print('succsessfully done!')"
   ]
  },
  {
   "cell_type": "code",
   "execution_count": null,
   "id": "6aeaf3bb",
   "metadata": {
    "ExecuteTime": {
     "end_time": "2024-03-05T14:22:37.459802Z",
     "start_time": "2024-03-05T14:22:37.459789Z"
    },
    "execution": {
     "iopub.execute_input": "2023-10-27T13:48:54.519349Z",
     "iopub.status.busy": "2023-10-27T13:48:54.518964Z",
     "iopub.status.idle": "2023-10-27T13:48:55.325810Z",
     "shell.execute_reply": "2023-10-27T13:48:55.324765Z"
    },
    "papermill": {
     "duration": 1.017801,
     "end_time": "2023-10-27T13:48:55.328386",
     "exception": false,
     "start_time": "2023-10-27T13:48:54.310585",
     "status": "completed"
    },
    "tags": []
   },
   "outputs": [],
   "source": [
    "torch.save(vae.state_dict(), savepath_model)"
   ]
  },
  {
   "cell_type": "code",
   "execution_count": null,
   "id": "98415dd3",
   "metadata": {
    "ExecuteTime": {
     "end_time": "2024-03-05T14:22:37.462647Z",
     "start_time": "2024-03-05T14:22:37.462620Z"
    },
    "execution": {
     "iopub.execute_input": "2023-10-27T13:48:55.751612Z",
     "iopub.status.busy": "2023-10-27T13:48:55.751205Z",
     "iopub.status.idle": "2023-10-27T13:48:56.287954Z",
     "shell.execute_reply": "2023-10-27T13:48:56.286827Z"
    },
    "papermill": {
     "duration": 0.754423,
     "end_time": "2023-10-27T13:48:56.290726",
     "exception": false,
     "start_time": "2023-10-27T13:48:55.536303",
     "status": "completed"
    },
    "tags": []
   },
   "outputs": [],
   "source": [
    "# 保存loss曲线和loss表\n",
    "fig,ax = plt.subplots()\n",
    "ax.plot(EPOCH_PLOT,LOSS_PLOT)\n",
    "plt.show()\n",
    "fig.savefig(savepath_fig,dpi = 300)\n",
    "EPOCH_C = np.array(EPOCH_PLOT)\n",
    "LOSS_C = np.array(LOSS_PLOT)\n",
    "LOSS_DATA = np.stack((EPOCH_C,LOSS_C),axis=0)\n",
    "np.save(savepath_data,LOSS_DATA)"
   ]
  },
  {
   "cell_type": "code",
   "execution_count": null,
   "id": "f7540185",
   "metadata": {
    "ExecuteTime": {
     "end_time": "2024-03-05T14:22:37.465816Z",
     "start_time": "2024-03-05T14:22:37.465803Z"
    },
    "execution": {
     "iopub.execute_input": "2023-10-27T13:48:56.720536Z",
     "iopub.status.busy": "2023-10-27T13:48:56.719821Z",
     "iopub.status.idle": "2023-10-27T13:48:56.935823Z",
     "shell.execute_reply": "2023-10-27T13:48:56.934787Z"
    },
    "papermill": {
     "duration": 0.435984,
     "end_time": "2023-10-27T13:48:56.938203",
     "exception": false,
     "start_time": "2023-10-27T13:48:56.502219",
     "status": "completed"
    },
    "tags": []
   },
   "outputs": [],
   "source": [
    "# 绘制learn_rate曲线\n",
    "fig,ax = plt.subplots()\n",
    "ax.plot(EPOCH_PLOT,LR_PLOT)\n",
    "plt.show()"
   ]
  },
  {
   "cell_type": "code",
   "execution_count": null,
   "id": "7b30d0bf",
   "metadata": {
    "ExecuteTime": {
     "end_time": "2024-03-05T14:22:37.467499Z",
     "start_time": "2024-03-05T14:22:37.467485Z"
    },
    "execution": {
     "iopub.execute_input": "2023-10-27T13:48:59.289180Z",
     "iopub.status.busy": "2023-10-27T13:48:59.288773Z",
     "iopub.status.idle": "2023-10-27T13:48:59.752394Z",
     "shell.execute_reply": "2023-10-27T13:48:59.751316Z"
    },
    "papermill": {
     "duration": 0.68284,
     "end_time": "2023-10-27T13:48:59.754701",
     "exception": false,
     "start_time": "2023-10-27T13:48:59.071861",
     "status": "completed"
    },
    "scrolled": false,
    "tags": []
   },
   "outputs": [],
   "source": [
    "def reconstruct(vae,dataloader):\n",
    "    for i, (x, y) in enumerate(dataloader):\n",
    "        x = x.to(device)\n",
    "        x_rec = vae(x.squeeze(1)) #squeeze:移除维度\n",
    "        y = y.to(device)\n",
    "    return x, x_rec, y\n",
    "x,x_rec,y= reconstruct(vae,dataloader)\n",
    "print(x.shape)\n",
    "print(\"一个批次包含\",x.shape[0],\"个样本，每个样本的形状为\",x.shape[1:5])\n",
    "x = x.squeeze(1)\n",
    "print(x_rec[0].shape)\n",
    "print(\"2.x.shape\"+\"运用sqeeze除去第二个维度，放入vae模型进行训练\")\n",
    "print(x.shape[2:])\n",
    "print(\"3.要imshow除去x需要除去第一个维度化为\",x.shape[2:])\n",
    "\n",
    "print(y.shape)\n",
    "y = y.squeeze(1)"
   ]
  },
  {
   "cell_type": "code",
   "execution_count": null,
   "id": "73dbd5ab",
   "metadata": {},
   "outputs": [],
   "source": [
    "img_LR_test = x\n",
    "img_SR_test = x_rec[0]\n",
    "img_HR_test = y\n",
    "img_LR_test = img_LR_test.detach().cpu().numpy()\n",
    "img_SR_test = img_SR_test.detach().cpu().numpy()\n",
    "img_HR_test = img_HR_test.detach().cpu().numpy()\n",
    "batch_size = dataloader.batch_size\n",
    "fig,ax = plt.subplots(1,3)\n",
    "\n",
    "number = 2\n",
    "\n",
    "ax[0].imshow(img_LR_test[number,0,:,:],cmap='hot')\n",
    "ax[0].set_xlabel(\"Confocal\")\n",
    "\n",
    "ax[1].imshow(img_SR_test[number,0,:,:],cmap='hot')\n",
    "ax[1].set_xlabel(\"Super-resolution\")\n",
    "\n",
    "ax[2].imshow(img_HR_test[number,0,:,:],cmap='hot')\n",
    "ax[2].set_xlabel(\"STED_HC\")\n",
    "plt.show()"
   ]
  }
 ],
 "metadata": {
  "kernelspec": {
   "display_name": "Python 3 (ipykernel)",
   "language": "python",
   "name": "python3"
  },
  "language_info": {
   "codemirror_mode": {
    "name": "ipython",
    "version": 3
   },
   "file_extension": ".py",
   "mimetype": "text/x-python",
   "name": "python",
   "nbconvert_exporter": "python",
   "pygments_lexer": "ipython3",
   "version": "3.8.10"
  },
  "papermill": {
   "default_parameters": {},
   "duration": 5275.573502,
   "end_time": "2023-10-27T13:49:02.004518",
   "environment_variables": {},
   "exception": null,
   "input_path": "__notebook__.ipynb",
   "output_path": "__notebook__.ipynb",
   "parameters": {},
   "start_time": "2023-10-27T12:21:06.431016",
   "version": "2.4.0"
  },
  "toc": {
   "base_numbering": 1,
   "nav_menu": {},
   "number_sections": true,
   "sideBar": true,
   "skip_h1_title": false,
   "title_cell": "Table of Contents",
   "title_sidebar": "Contents",
   "toc_cell": false,
   "toc_position": {},
   "toc_section_display": true,
   "toc_window_display": false
  }
 },
 "nbformat": 4,
 "nbformat_minor": 5
}
