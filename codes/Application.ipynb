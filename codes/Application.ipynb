{
 "cells": [
  {
   "cell_type": "code",
   "execution_count": null,
   "id": "f504c37f",
   "metadata": {},
   "outputs": [],
   "source": [
    "import torch; torch.manual_seed(0)\n",
    "import numpy as np\n",
    "from PIL import Image\n",
    "from torchvision.transforms import transforms\n",
    "import matplotlib.pyplot as plt\n",
    "import torch.nn as nn\n",
    "from function.VAE import VAE\n",
    "from function.Dir import Dir\n",
    "\n",
    "BATCH_SIZE = 32\n",
    "EPOCHS = 5\n",
    "LATENTDIM = 256\n",
    "DEVICE = torch.device(\"cuda\")\n",
    "model = f'{Dir.models()}/model_{EPOCHS}epo_{BATCH_SIZE}bth_{LATENTDIM}latn.pth'"
   ]
  },
  {
   "cell_type": "code",
   "execution_count": null,
   "id": "7deb4aaa",
   "metadata": {},
   "outputs": [],
   "source": [
    "with torch.no_grad(): # 不要输出\n",
    "    vae = VAE(LATENTDIM).to(DEVICE)\n",
    "    vae = nn.DataParallel(vae) # 并行运算带来的修饰vae的代码\n",
    "    vae.load_state_dict(torch.load(model, map_location=DEVICE)) \n",
    "    vae.eval()"
   ]
  },
  {
   "cell_type": "code",
   "execution_count": null,
   "id": "cdd61684",
   "metadata": {},
   "outputs": [],
   "source": [
    "first_fig_num = 2000\n",
    "iteration_times = 1\n",
    "do_save = 0\n",
    "for i in range(first_fig_num,first_fig_num+5):\n",
    "    img_Confocal, img_STED, img_STED_HC = Image.open(f\"{Dir.Confocal()}/{i}_Confocal.png\"), Image.open(f\"{Dir.STED()}/{i}_STED.png\") ,Image.open(f\"{Dir.STED_HC()}/{i}_STED_HC.png\")\n",
    "    preprocess = transforms.Compose([transforms.ToTensor()])\n",
    "    img_tobe_iterated = img_Confocal\n",
    "    for j in range(iteration_times): # 迭代\n",
    "        img_tobe_iterated= preprocess(img_tobe_iterated)\n",
    "        img_tobe_iterated = img_tobe_iterated.unsqueeze(0).to(DEVICE)  # 添加批次维度，变为 shape [1, C, H, W]\n",
    "        with torch.no_grad():\n",
    "            img_tobe_iterated = vae(img_tobe_iterated)\n",
    "        img_tobe_iterated = img_tobe_iterated[0][0].squeeze(0)\n",
    "        img_tobe_iterated = img_tobe_iterated.to('cpu')\n",
    "        img_tobe_iterated = img_tobe_iterated.numpy()\n",
    "        img_tobe_iterated = (img_tobe_iterated - img_tobe_iterated.min()) / (img_tobe_iterated.max() - img_tobe_iterated.min()) * 255.0\n",
    "        img_tobe_iterated = img_tobe_iterated.astype(np.uint8)\n",
    "        img_tobe_iterated = Image.fromarray(img_tobe_iterated)\n",
    "    img_SR = img_tobe_iterated\n",
    "\n",
    "    fig,ax = plt.subplots(1,4)\n",
    "    plt.rcParams['figure.figsize'] = [20, 10]\n",
    "    ax[0].imshow(img_Confocal,cmap='hot')\n",
    "    ax[0].set_title('Confocal')\n",
    "    ax[1].imshow(img_SR,cmap='hot')\n",
    "    ax[1].set_title('Super-resolution')\n",
    "    ax[2].imshow(img_STED,cmap='hot')\n",
    "    ax[2].set_title('STED')\n",
    "    ax[3].imshow(img_STED_HC,cmap='hot')\n",
    "    ax[3].set_title('STED_HC')\n",
    "    #plt.savefig('1.png')\n",
    "    plt.show()\n",
    "    if do_save == 1:\n",
    "        img_Confocal.save(f'{Dir.imgs()}/{i}_Confocal.png')\n",
    "        img_SR.save(f'{Dir.imgs()}/{i}_SR.png')\n",
    "        img_STED.save(f'{Dir.imgs()}/{i}_STED.png')\n",
    "        img_STED_HC.save(f'{Dir.imgs()}/{i}_STED_HC.png')"
   ]
  }
 ],
 "metadata": {
  "kernelspec": {
   "display_name": "Python 3 (ipykernel)",
   "language": "python",
   "name": "python3"
  },
  "language_info": {
   "codemirror_mode": {
    "name": "ipython",
    "version": 3
   },
   "file_extension": ".py",
   "mimetype": "text/x-python",
   "name": "python",
   "nbconvert_exporter": "python",
   "pygments_lexer": "ipython3",
   "version": "3.10.12"
  }
 },
 "nbformat": 4,
 "nbformat_minor": 5
}
