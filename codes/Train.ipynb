{
 "cells": [
  {
   "cell_type": "code",
   "execution_count": null,
   "id": "ba95a29b",
   "metadata": {
    "ExecuteTime": {
     "end_time": "2024-03-05T14:22:32.148778Z",
     "start_time": "2024-03-05T14:22:30.158486Z"
    },
    "papermill": {
     "duration": 4.0798,
     "end_time": "2023-10-27T12:21:14.186843",
     "exception": false,
     "start_time": "2023-10-27T12:21:10.107043",
     "status": "completed"
    },
    "tags": []
   },
   "outputs": [],
   "source": [
    "import torch; torch.manual_seed(0)\n",
    "import numpy as np\n",
    "import matplotlib.pyplot as plt\n",
    "import torch.nn as nn\n",
    "from torch.utils.data import DataLoader\n",
    "from function.VAE import VAE\n",
    "from function.Dir import Dir\n",
    "from function.Dataset import ImageDataset\n",
    "from function.Loss import Custom_criterion\n",
    "from function.Log import log\n",
    "\n",
    "NUM_TO_LEARN = 5000 #训练集放入图片对数量\n",
    "EPOCHS = 1000 #参数1\n",
    "BATCH_SIZE = 128 #参数2\n",
    "LATENTDIM = 256 #参数3\n",
    "LR_MAX = 5e-4\n",
    "LR_MIN = 5e-6\n",
    "mode = 1 #0代表STED_HC文件训练，1代表使用STED，对应ImageDataset里的 mode 参数。（STED出的模型对泛化能力弱，STED_HC对训练集的还原会有点失真）\n",
    "\n",
    "DEVICE = 'cuda'\n",
    "LOSS_PLOT = []\n",
    "EPOCH_PLOT = []"
   ]
  },
  {
   "cell_type": "code",
   "execution_count": null,
   "id": "4e2525e0",
   "metadata": {},
   "outputs": [],
   "source": [
    "name = f'{EPOCHS}epo_{BATCH_SIZE}bth_{LATENTDIM}latn'\n",
    "\n",
    "#加载数据集\n",
    "dataset = ImageDataset(NUM_TO_LEARN, mode)\n",
    "dataloader = DataLoader(dataset, BATCH_SIZE, True)\n",
    "\n",
    "#初始化VAE网络\n",
    "vae = VAE(LATENTDIM).to(DEVICE)\n",
    "vae = nn.DataParallel(vae) #将 VAE 包装成一个并行化模型，以便在多个 GPU 上并行地进行训练\n",
    "\n",
    "#定义LOSS函数与优化器\n",
    "criterion1 = nn.MSELoss()\n",
    "criterion2 = Custom_criterion().cuda()\n",
    "optimizer = torch.optim.AdamW(vae.parameters(), lr = LR_MAX)"
   ]
  },
  {
   "cell_type": "code",
   "execution_count": null,
   "id": "f4729999",
   "metadata": {
    "ExecuteTime": {
     "end_time": "2024-03-05T14:22:35.443508Z",
     "start_time": "2024-03-05T14:22:35.433880Z"
    },
    "papermill": {
     "duration": 0.062985,
     "end_time": "2023-10-27T12:21:54.155567",
     "exception": false,
     "start_time": "2023-10-27T12:21:54.092582",
     "status": "completed"
    },
    "tags": []
   },
   "outputs": [],
   "source": [
    "def train(dataloader, num_epochs):\n",
    "    with open('training.log', 'w') as nothing: # 清空原log\n",
    "        pass\n",
    "    for epoch in range(num_epochs):\n",
    "        vae.train() # 切换成训练模式\n",
    "        total_loss = 0.0\n",
    "        current_lr = LR_MIN + 0.5 * (LR_MAX - LR_MIN) * (1 + np.cos(np.pi * epoch / EPOCHS)) #定义loss\n",
    "        optimizer = torch.optim.AdamW(vae.parameters(), lr = current_lr)\n",
    "\n",
    "        for _, (img_LR, img_HR) in enumerate(dataloader):\n",
    "            img_LR = torch.squeeze(img_LR,dim = 1).to(DEVICE)\n",
    "            img_HR = torch.squeeze(img_HR,dim = 1).to(DEVICE)\n",
    "            img_SR, _, _ = vae(img_LR)\n",
    "            img_SR = img_SR.to(DEVICE)\n",
    "            # 这步为止，img_LR,img_HR,img_SR均是[batchsize,不知道是什么,宽，高]\n",
    "            if epoch <= 500:\n",
    "                loss = criterion1(img_SR, img_HR)\n",
    "            if epoch > 500:\n",
    "                loss = criterion2(img_SR, img_HR) # 每个BATCH的loss，64张图平均\n",
    "            optimizer.zero_grad()\n",
    "            loss.backward() # 最耗算力的一步\n",
    "            optimizer.step()\n",
    "            total_loss += loss.item()\n",
    "        avg_loss = total_loss / len(dataloader) # 每个EPOCH的loss，全部数据集的平均\n",
    "        print(f\"Epoch [{epoch+1}/{num_epochs}], Average Loss: {avg_loss:.6f}, Current_LR:{current_lr:.8f}\")\n",
    "        log(f\"Epoch [{epoch+1}/{num_epochs}], Average Loss: {avg_loss:.6f}, Current_LR:{current_lr:.8f}\")\n",
    "\n",
    "        LOSS_PLOT.append(total_loss)\n",
    "        EPOCH_PLOT.append(epoch)\n",
    "        if epoch % 300 == 0:\n",
    "            torch.save(vae.state_dict(), Dir.TEMP()+'/checkpoint.pth')"
   ]
  },
  {
   "cell_type": "code",
   "execution_count": null,
   "id": "420ee314",
   "metadata": {},
   "outputs": [],
   "source": [
    "print(DEVICE)\n",
    "print('start!')\n",
    "train(dataloader, EPOCHS)\n",
    "print('succsessfully done!')"
   ]
  },
  {
   "cell_type": "code",
   "execution_count": null,
   "id": "98415dd3",
   "metadata": {
    "ExecuteTime": {
     "end_time": "2024-03-05T14:22:37.462647Z",
     "start_time": "2024-03-05T14:22:37.462620Z"
    },
    "papermill": {
     "duration": 0.754423,
     "end_time": "2023-10-27T13:48:56.290726",
     "exception": false,
     "start_time": "2023-10-27T13:48:55.536303",
     "status": "completed"
    },
    "tags": []
   },
   "outputs": [],
   "source": [
    "fig,ax = plt.subplots()\n",
    "ax.plot(EPOCH_PLOT,LOSS_PLOT)\n",
    "# plt.show() # jupyter不show也显示图片\n",
    "fig.savefig(f'{Dir.models()}/lossfig_{name}.png', dpi = 300)\n",
    "\n",
    "LOSS_DATA = np.stack((np.array(EPOCH_PLOT),np.array(LOSS_PLOT)),axis=0)\n",
    "np.save(f'{Dir.models()}/lossdata_{name}.npy',LOSS_DATA)\n",
    "\n",
    "torch.save(vae.state_dict(), f'{Dir.models()}/model_{name}.pth')"
   ]
  },
  {
   "cell_type": "markdown",
   "id": "99614d3e-7bed-4031-bb24-49ff56931a2c",
   "metadata": {},
   "source": [
    "import torch; torch.manual_seed(0)\n",
    "import numpy as np\n",
    "import matplotlib.pyplot as plt\n",
    "import torch.nn as nn\n",
    "from torch.utils.data import DataLoader\n",
    "from function.VAE import VAE\n",
    "from function.Dir import Dir\n",
    "from function.Dataset import ImageDataset\n",
    "from function.Loss import Custom_criterion\n",
    "from function.Log import log\n",
    "\n",
    "# 第0步：定义网络参数\n",
    "NUM_TO_LEARN = 5000 #训练集放入图片对数量\n",
    "EPOCHS = 2000 #参数1\n",
    "BATCH_SIZE = 128 #参数2\n",
    "LATENTDIM = 256 #参数3\n",
    "LR_MAX = 5e-4\n",
    "LR_MIN = 5e-6\n",
    "mode = 0 #0代表STED_HC文件训练，1代表使用STED，对应ImageDataset里的 mode 参数。哪个训练效果好？\n",
    "\n",
    "DEVICE = 'cuda'\n",
    "LOSS_PLOT = []\n",
    "EPOCH_PLOT = []\n",
    "\n",
    "# 第一步：加载数据集\n",
    "dataset = ImageDataset(NUM_TO_LEARN, 0) # 0代表使用STED_HC文件训练，1代表使用STED文件训练 对应ImageDataset里的 mode 参数。哪个训练效果好？\n",
    "dataloader = DataLoader(dataset, BATCH_SIZE, True)\n",
    "\n",
    "# 第二步：初始化VAE网络\n",
    "vae = VAE(LATENTDIM).to(DEVICE)\n",
    "vae = nn.DataParallel(vae) #将 VAE 包装成一个并行化模型，以便在多个 GPU 上并行地进行训练\n",
    "# 第二步：定义LOSS函数与优化器\n",
    "criterion1 = nn.MSELoss()\n",
    "criterion2 = Custom_criterion().cuda()\n",
    "optimizer = torch.optim.AdamW(vae.parameters(), lr = LR_MAX)\n",
    "\n",
    "# 第三步：定义Train函数\n",
    "def train(dataloader, num_epochs):\n",
    "\n",
    "# 第四步：开始训练，输出可视化，保存训练log，保存训练后网络\n",
    "print(DEVICE)\n",
    "print('start!')\n",
    "train(dataloader, EPOCHS)\n",
    "print('succsessfully done!')\n",
    "\n",
    "fig,ax = plt.subplots()\n",
    "ax.plot(EPOCH_PLOT,LOSS_PLOT)\n",
    "fig.savefig(f'{Dir.models()}/lossfig_{name}.png', dpi = 300) # 保存LOSS图片\n",
    "LOSS_DATA = np.stack((np.array(EPOCH_PLOT),np.array(LOSS_PLOT)),axis=0)\n",
    "np.save(f'{Dir.models()}/lossdata_{name}.npy',LOSS_DATA) # 保存LOSS数据\n",
    "torch.save(vae.state_dict(), f'{Dir.models()}/model_{name}.pth') #保存模型pth"
   ]
  }
 ],
 "metadata": {
  "kernelspec": {
   "display_name": "Python 3 (ipykernel)",
   "language": "python",
   "name": "python3"
  },
  "language_info": {
   "codemirror_mode": {
    "name": "ipython",
    "version": 3
   },
   "file_extension": ".py",
   "mimetype": "text/x-python",
   "name": "python",
   "nbconvert_exporter": "python",
   "pygments_lexer": "ipython3",
   "version": "3.10.12"
  },
  "papermill": {
   "default_parameters": {},
   "duration": 5275.573502,
   "end_time": "2023-10-27T13:49:02.004518",
   "environment_variables": {},
   "exception": null,
   "input_path": "__notebook__.ipynb",
   "output_path": "__notebook__.ipynb",
   "parameters": {},
   "start_time": "2023-10-27T12:21:06.431016",
   "version": "2.4.0"
  },
  "toc": {
   "base_numbering": 1,
   "nav_menu": {},
   "number_sections": true,
   "sideBar": true,
   "skip_h1_title": false,
   "title_cell": "Table of Contents",
   "title_sidebar": "Contents",
   "toc_cell": false,
   "toc_position": {},
   "toc_section_display": true,
   "toc_window_display": false
  }
 },
 "nbformat": 4,
 "nbformat_minor": 5
}
