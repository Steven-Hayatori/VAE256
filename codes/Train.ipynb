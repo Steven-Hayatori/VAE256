{
 "cells": [
  {
   "cell_type": "code",
   "execution_count": 1,
   "id": "ba95a29b",
   "metadata": {
    "ExecuteTime": {
     "end_time": "2024-03-05T14:22:32.148778Z",
     "start_time": "2024-03-05T14:22:30.158486Z"
    },
    "papermill": {
     "duration": 4.0798,
     "end_time": "2023-10-27T12:21:14.186843",
     "exception": false,
     "start_time": "2023-10-27T12:21:10.107043",
     "status": "completed"
    },
    "tags": []
   },
   "outputs": [],
   "source": [
    "import torch; torch.manual_seed(0)\n",
    "import numpy as np\n",
    "import matplotlib.pyplot as plt\n",
    "import torch.nn as nn\n",
    "from torch.utils.data import DataLoader\n",
    "from function.VAE import VAE\n",
    "from function.Dir import Dir\n",
    "from function.Dataset import ImageDataset\n",
    "from function.Loss import Custom_criterion\n",
    "from function.Log import log\n",
    "\n",
    "NUM_TO_LEARN = 5000\n",
    "BATCH_SIZE = 32\n",
    "EPOCHS = 5\n",
    "LATENTDIM = 128\n",
    "LEARN_RATE = 5e-4\n",
    "\n",
    "DEVICE = 'cuda'\n",
    "LOSS_PLOT = []\n",
    "EPOCH_PLOT = []\n",
    "LR_PLOT = []"
   ]
  },
  {
   "cell_type": "code",
   "execution_count": 2,
   "id": "4e2525e0",
   "metadata": {},
   "outputs": [],
   "source": [
    "name = f'{EPOCHS}epo_{BATCH_SIZE}bth_{LATENTDIM}latn'\n",
    "dataset = ImageDataset(NUM_TO_LEARN, 0) # 0代表使用STED_HC文件训练，1代表使用STED文件训练\n",
    "dataloader = DataLoader(dataset, BATCH_SIZE, True)\n",
    "vae = VAE(LATENTDIM).to(DEVICE)\n",
    "vae = nn.DataParallel(vae)\n",
    "criterion = Custom_criterion(mse_weight=1.0, ssim_weight=0.2, psnr_weight=0.5).cuda()\n",
    "optimizer = torch.optim.AdamW(vae.parameters(), lr = LEARN_RATE)"
   ]
  },
  {
   "cell_type": "code",
   "execution_count": 3,
   "id": "f4729999",
   "metadata": {
    "ExecuteTime": {
     "end_time": "2024-03-05T14:22:35.443508Z",
     "start_time": "2024-03-05T14:22:35.433880Z"
    },
    "papermill": {
     "duration": 0.062985,
     "end_time": "2023-10-27T12:21:54.155567",
     "exception": false,
     "start_time": "2023-10-27T12:21:54.092582",
     "status": "completed"
    },
    "tags": []
   },
   "outputs": [],
   "source": [
    "def train(dataloader, criterion, optimizer, num_epochs):\n",
    "    with open('training.log', 'w') as nothing: # 清空原log\n",
    "        pass\n",
    "    for epoch in range(num_epochs):\n",
    "        vae.train() # 切换成训练模式\n",
    "        total_loss = 0.0\n",
    "        for i, (img_LR, img_HR) in enumerate(dataloader):\n",
    "            img_LR = torch.squeeze(img_LR,dim = 1).to(DEVICE)\n",
    "            img_HR = torch.squeeze(img_HR,dim = 1).to(DEVICE)\n",
    "            img_SR, mu, logvar = vae(img_LR)\n",
    "            img_SR = img_SR.to(DEVICE)\n",
    "            # 这步为止，img_LR,img_HR,img_SR均是[batchsize,不知道是什么,宽，高]\n",
    "            loss = criterion(img_SR, img_HR) # 每个BATCH的loss，64张图平均\n",
    "            optimizer.zero_grad()\n",
    "            loss.backward() # 最耗算力的一步\n",
    "            optimizer.step()\n",
    "            total_loss += loss.item()\n",
    "        avg_loss = total_loss / len(dataloader) # 每个EPOCH的loss，全部数据集的平均\n",
    "        print(f\"Epoch [{epoch+1}/{num_epochs}], Average Loss: {avg_loss:.6f}\")\n",
    "        log(f\"Epoch [{epoch+1}/{num_epochs}], Average Loss: {avg_loss:.6f}\")\n",
    "\n",
    "        LOSS_PLOT.append(total_loss)\n",
    "        EPOCH_PLOT.append(epoch)\n",
    "        if epoch % 300 == 0:\n",
    "            torch.save(vae.state_dict(), Dir.TEMP()+'/checkpoint.pth')"
   ]
  },
  {
   "cell_type": "code",
   "execution_count": 4,
   "id": "420ee314",
   "metadata": {},
   "outputs": [
    {
     "name": "stdout",
     "output_type": "stream",
     "text": [
      "cuda\n",
      "start!\n",
      "Epoch [1/5], Average Loss: 0.217034\n",
      "Epoch [2/5], Average Loss: 0.189752\n",
      "Epoch [3/5], Average Loss: 0.183278\n",
      "Epoch [4/5], Average Loss: 0.153087\n",
      "Epoch [5/5], Average Loss: 0.128663\n",
      "succsessfully done!\n"
     ]
    }
   ],
   "source": [
    "print(DEVICE)\n",
    "print('start!')\n",
    "train(dataloader, criterion, optimizer, EPOCHS)\n",
    "print('succsessfully done!')"
   ]
  },
  {
   "cell_type": "code",
   "execution_count": 5,
   "id": "98415dd3",
   "metadata": {
    "ExecuteTime": {
     "end_time": "2024-03-05T14:22:37.462647Z",
     "start_time": "2024-03-05T14:22:37.462620Z"
    },
    "papermill": {
     "duration": 0.754423,
     "end_time": "2023-10-27T13:48:56.290726",
     "exception": false,
     "start_time": "2023-10-27T13:48:55.536303",
     "status": "completed"
    },
    "tags": []
   },
   "outputs": [
    {
     "data": {
      "image/png": "[encoded data removed]",
      "text/plain": [
       "<Figure size 640x480 with 1 Axes>"
      ]
     },
     "metadata": {},
     "output_type": "display_data"
    }
   ],
   "source": [
    "fig,ax = plt.subplots()\n",
    "ax.plot(EPOCH_PLOT,LOSS_PLOT)\n",
    "# plt.show() # jupyter不show也显示图片\n",
    "fig.savefig(f'{Dir.models()}/lossfig_{name}.png', dpi = 300)\n",
    "\n",
    "LOSS_DATA = np.stack((np.array(EPOCH_PLOT),np.array(LOSS_PLOT)),axis=0)\n",
    "np.save(f'{Dir.models()}/lossdata_{name}.npy',LOSS_DATA)\n",
    "\n",
    "torch.save(vae.state_dict(), f'{Dir.models()}/model_{name}.pth')"
   ]
  }
 ],
 "metadata": {
  "kernelspec": {
   "display_name": "Python 3 (ipykernel)",
   "language": "python",
   "name": "python3"
  },
  "language_info": {
   "codemirror_mode": {
    "name": "ipython",
    "version": 3
   },
   "file_extension": ".py",
   "mimetype": "text/x-python",
   "name": "python",
   "nbconvert_exporter": "python",
   "pygments_lexer": "ipython3",
   "version": "3.10.12"
  },
  "papermill": {
   "default_parameters": {},
   "duration": 5275.573502,
   "end_time": "2023-10-27T13:49:02.004518",
   "environment_variables": {},
   "exception": null,
   "input_path": "__notebook__.ipynb",
   "output_path": "__notebook__.ipynb",
   "parameters": {},
   "start_time": "2023-10-27T12:21:06.431016",
   "version": "2.4.0"
  },
  "toc": {
   "base_numbering": 1,
   "nav_menu": {},
   "number_sections": true,
   "sideBar": true,
   "skip_h1_title": false,
   "title_cell": "Table of Contents",
   "title_sidebar": "Contents",
   "toc_cell": false,
   "toc_position": {},
   "toc_section_display": true,
   "toc_window_display": false
  }
 },
 "nbformat": 4,
 "nbformat_minor": 5
}
